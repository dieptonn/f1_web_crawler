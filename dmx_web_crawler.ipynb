{
 "cells": [
  {
   "cell_type": "code",
   "execution_count": 51,
   "metadata": {},
   "outputs": [],
   "source": [
    "import requests\n",
    "from bs4 import BeautifulSoup\n",
    "import json"
   ]
  },
  {
   "cell_type": "code",
   "execution_count": 52,
   "metadata": {},
   "outputs": [],
   "source": [
    "url = 'https://www.dienmayxanh.com/tivi#c=1942&o=13&pi=12'\n",
    "headers = {'User-Agent': 'Mozilla/5.0 (Windows NT 10.0; Win64; x64) AppleWebKit/537.36 (KHTML, like Gecko) Chrome/91.0.4472.124 Safari/537.36'}\n",
    "response = requests.get(url, headers=headers)\n"
   ]
  },
  {
   "cell_type": "code",
   "execution_count": 53,
   "metadata": {},
   "outputs": [],
   "source": [
    "# response.content"
   ]
  },
  {
   "cell_type": "code",
   "execution_count": 55,
   "metadata": {},
   "outputs": [
    {
     "name": "stdout",
     "output_type": "stream",
     "text": [
      "[{\"name\": \"Samsung Smart TV QLED QA43Q65A\", \"size\": \"43 inch\", \"resolution\": \"4K\", \"price_old\": \"12390000\", \"discount\": \"-19%\", \"price_sale\": \"9990000\", \"rating\": \"4\", \"rating_number\": \"134\"}, {\"name\": \"Samsung Smart TV Crystal UHD UA43BU8000\", \"size\": \"43 inch\", \"resolution\": \"4K\", \"price_old\": \"9890000\", \"discount\": \"-19%\", \"price_sale\": \"7990000\", \"rating\": \"5\", \"rating_number\": \"69\"}, {\"name\": \"Casper Android TV 32HG5200\", \"size\": \"32 inch\", \"resolution\": \"HD\", \"price_old\": \"5990000\", \"discount\": \"-36%\", \"price_sale\": \"3790000\", \"rating\": \"4\", \"rating_number\": \"263\"}, {\"name\": \"Samsung Smart TV UA43AU7002\", \"size\": \"43 inch\", \"resolution\": \"4K\", \"price_old\": \"8390000\", \"discount\": \"-23%\", \"price_sale\": \"6390000\", \"rating\": \"4\", \"rating_number\": \"150\"}, {\"name\": \"Samsung Smart TV Crystal UHD UA65AU8100\", \"size\": \"65 inch\", \"resolution\": \"4K\", \"price_old\": \"16370000\", \"discount\": \"-26%\", \"price_sale\": \"11990000\", \"rating\": \"4\", \"rating_number\": \"239\"}, {\"name\": \"LG Smart TV NanoCell 65NANO76SQA\", \"size\": \"65 inch\", \"resolution\": \"4K\", \"price_old\": \"29900000\", \"discount\": \"-49%\", \"price_sale\": \"14990000\", \"rating\": \"4\", \"rating_number\": \"123\"}, {\"name\": \"TCL Google TV 43S5400\", \"size\": \"43 inch\", \"resolution\": \"Full HD\", \"price_old\": \"6790000\", \"discount\": \"-17%\", \"price_sale\": \"5590000\", \"rating\": \"4\", \"rating_number\": \"33\"}, {\"name\": \"Samsung Smart TV QLED QA55Q65A\", \"size\": \"55 inch\", \"resolution\": \"4K\", \"price_old\": \"15390000\", \"discount\": \"-28%\", \"price_sale\": \"10990000\", \"rating\": \"4\", \"rating_number\": \"222\"}, {\"name\": \"Samsung Smart TV QLED QA65Q65A\", \"size\": \"65 inch\", \"resolution\": \"4K\", \"price_old\": \"18890000\", \"discount\": \"-23%\", \"price_sale\": \"14490000\", \"rating\": \"4\", \"rating_number\": \"174\"}, {\"name\": \"Sony Google TV KD-43X77L\", \"size\": \"43 inch\", \"resolution\": \"4K\", \"price_old\": \"12190000\", \"discount\": \"-11%\", \"price_sale\": \"10790000\", \"rating\": \"4\", \"rating_number\": \"25\"}, {\"name\": \"LG Smart TV NanoCell 55NANO76SQA\", \"size\": \"55 inch\", \"resolution\": \"4K\", \"price_old\": \"22900000\", \"discount\": \"-49%\", \"price_sale\": \"11490000\", \"rating\": \"4\", \"rating_number\": \"186\"}, {\"name\": \"TCL Google TV 32S5400\", \"size\": \"32 inch\", \"resolution\": \"Full HD\", \"price_old\": \"4790000\", \"discount\": \"-27%\", \"price_sale\": \"3490000\", \"rating\": \"4\", \"rating_number\": \"38\"}, {\"name\": \"LG Smart TV 43UQ8000PSC\", \"size\": \"43 inch\", \"resolution\": \"4K\", \"price_old\": \"14400000\", \"discount\": \"-46%\", \"price_sale\": \"7690000\", \"rating\": \"4\", \"rating_number\": \"107\"}, {\"name\": \"Toshiba Smart TV 43V31MP\", \"size\": \"43 inch\", \"resolution\": \"Full HD\", \"price_old\": \"6990000\", \"discount\": \"-28%\", \"price_sale\": \"4990000\", \"rating\": \"4\", \"rating_number\": \"57\"}, {\"name\": \"LG Smart TV 55UQ8000PSC\", \"size\": \"55 inch\", \"resolution\": \"4K\", \"price_old\": \"19900000\", \"discount\": \"-47%\", \"price_sale\": \"10490000\", \"rating\": \"4\", \"rating_number\": \"233\"}, {\"name\": \"Samsung Smart TV UA55BU8000\", \"size\": \"55 inch\", \"resolution\": \"4K\", \"price_old\": \"12890000\", \"discount\": \"-22%\", \"price_sale\": \"9990000\", \"rating\": \"4\", \"rating_number\": \"39\"}, {\"name\": \"TCL Google TV 40S5400\", \"size\": \"40 inch\", \"resolution\": \"Full HD\", \"price_old\": \"5790000\", \"discount\": \"-15%\", \"price_sale\": \"4890000\", \"rating\": \"4\", \"rating_number\": \"31\"}, {\"name\": \"Casper Android TV 43FG5200\", \"size\": \"43 inch\", \"resolution\": \"Full HD\", \"price_old\": \"7990000\", \"discount\": \"-37%\", \"price_sale\": \"4990000\", \"rating\": \"4\", \"rating_number\": \"230\"}, {\"name\": \"Sony Google TV KD-55X77L\", \"size\": \"55 inch\", \"resolution\": \"4K\", \"price_old\": \"15890000\", \"discount\": \"-8%\", \"price_sale\": \"14590000\", \"rating\": \"4\", \"rating_number\": \"23\"}, {\"name\": \"TCL Google TV 58P635\", \"size\": \"58 inch\", \"resolution\": \"4K\", \"price_old\": \"10490000\", \"discount\": \"-23%\", \"price_sale\": \"7990000\", \"rating\": \"4\", \"rating_number\": \"49\"}]\n"
     ]
    }
   ],
   "source": [
    "\n",
    "if response.status_code == 200:\n",
    "    soup = BeautifulSoup(response.content, 'html.parser')\n",
    "    ul = soup.find('ul', class_='listproduct')\n",
    "    lis = ul.find_all('li')\n",
    "\n",
    "    last_index = len(lis) - 1\n",
    "    \n",
    "    # Mảng để lưu trữ các kết quả JSON\n",
    "    results = []\n",
    "\n",
    "    for li_id, li in enumerate(lis):\n",
    "        names = li.find_all('h3')\n",
    "        sizes = li.select('.item-compare span:nth-of-type(1)')\n",
    "        resolutions = li.select('.item-compare span:nth-of-type(2)')\n",
    "        prices_old = li.select('.price-old')\n",
    "        discounts = li.select('.percent')\n",
    "        prices = li.select('.price')\n",
    "        ratings = li.select('.item-rating-total')\n",
    "        \n",
    "        name = names[0].text.strip()\n",
    "        size = sizes[0].text.strip()\n",
    "        resolution = resolutions[0].text.strip()\n",
    "        price_old = prices_old[0].text.strip().replace('₫', '').replace('.', '')\n",
    "        discount = discounts[0].text.strip()\n",
    "        price = prices[0].text.strip().replace('₫', '').replace('.', '')\n",
    "        rating = len(li.select('.icon-star'))\n",
    "        rating_number = ratings[0].text.strip()\n",
    "        \n",
    "        # Remove '\\n' and spaces from the end of the \"Name\" string\n",
    "        name = name.rsplit('\\n', 1)[0].strip()\n",
    "\n",
    "        result = {\n",
    "            'name': name,\n",
    "            'size': size,\n",
    "            'resolution': resolution,\n",
    "            'price_old': price_old,\n",
    "            'discount': discount,\n",
    "            'price_sale': price,\n",
    "            'rating': str(rating),\n",
    "            'rating_number': rating_number,\n",
    "        }\n",
    "\n",
    "        results.append(result)\n",
    "\n",
    "    # Convert to JSON and print\n",
    "    json_result = json.dumps(results, ensure_ascii=False)\n",
    "    print(json_result)\n"
   ]
  },
  {
   "cell_type": "code",
   "execution_count": 57,
   "metadata": {},
   "outputs": [
    {
     "ename": "ModuleNotFoundError",
     "evalue": "No module named 'selenium'",
     "output_type": "error",
     "traceback": [
      "\u001b[1;31m---------------------------------------------------------------------------\u001b[0m",
      "\u001b[1;31mModuleNotFoundError\u001b[0m                       Traceback (most recent call last)",
      "\u001b[1;32md:\\Code\\Python\\web_crawler\\dmx_web_crawler.ipynb Cell 6\u001b[0m line \u001b[0;36m1\n\u001b[1;32m----> <a href='vscode-notebook-cell:/d%3A/Code/Python/web_crawler/dmx_web_crawler.ipynb#W5sZmlsZQ%3D%3D?line=0'>1</a>\u001b[0m \u001b[39mfrom\u001b[39;00m \u001b[39mselenium\u001b[39;00m \u001b[39mimport\u001b[39;00m webdriver\n\u001b[0;32m      <a href='vscode-notebook-cell:/d%3A/Code/Python/web_crawler/dmx_web_crawler.ipynb#W5sZmlsZQ%3D%3D?line=1'>2</a>\u001b[0m \u001b[39mfrom\u001b[39;00m \u001b[39mselenium\u001b[39;00m\u001b[39m.\u001b[39;00m\u001b[39mwebdriver\u001b[39;00m\u001b[39m.\u001b[39;00m\u001b[39mchrome\u001b[39;00m\u001b[39m.\u001b[39;00m\u001b[39moptions\u001b[39;00m \u001b[39mimport\u001b[39;00m Options\n\u001b[0;32m      <a href='vscode-notebook-cell:/d%3A/Code/Python/web_crawler/dmx_web_crawler.ipynb#W5sZmlsZQ%3D%3D?line=2'>3</a>\u001b[0m \u001b[39mfrom\u001b[39;00m \u001b[39mbs4\u001b[39;00m \u001b[39mimport\u001b[39;00m BeautifulSoup\n",
      "\u001b[1;31mModuleNotFoundError\u001b[0m: No module named 'selenium'"
     ]
    }
   ],
   "source": [
    "from selenium import webdriver\n",
    "from selenium.webdriver.chrome.options import Options\n",
    "from bs4 import BeautifulSoup\n",
    "import json\n",
    "\n",
    "# Đường dẫn đến WebDriver (đổi tùy theo trình duyệt bạn sử dụng)\n",
    "webdriver_path = '/path/to/chromedriver'\n",
    "\n",
    "# Tạo các tùy chọn cho trình duyệt\n",
    "chrome_options = Options()\n",
    "chrome_options.add_argument('--headless')  # Chạy trình duyệt ẩn danh (không hiển thị trình duyệt)\n",
    "\n",
    "# Khởi tạo trình duyệt (ở đây sử dụng Chrome)\n",
    "driver = webdriver.Chrome(executable_path=webdriver_path, options=chrome_options)\n",
    "\n",
    "url = 'https://www.dienmayxanh.com/tivi#c=1942&o=13&pi=12'\n",
    "driver.get(url)\n",
    "\n",
    "# Lấy nội dung HTML sau khi trang đã được tải qua JavaScript\n",
    "html_content = driver.page_source\n",
    "\n",
    "# Tắt trình duyệt\n",
    "driver.quit()\n",
    "\n",
    "# Tiếp tục xử lý HTML giống như bạn đã làm với BeautifulSoup\n",
    "soup = BeautifulSoup(html_content, 'html.parser')\n",
    "ul = soup.find('ul', class_='listproduct')\n",
    "lis = ul.find_all('li')\n",
    "\n",
    "last_index = len(lis) - 1\n",
    "\n",
    "# Mảng để lưu trữ các kết quả JSON\n",
    "results = []\n",
    "\n",
    "for li_id, li in enumerate(lis):\n",
    "    names = li.find_all('h3')\n",
    "    sizes = li.select('.item-compare span:nth-of-type(1)')\n",
    "    resolutions = li.select('.item-compare span:nth-of-type(2)')\n",
    "    prices_old = li.select('.price-old')\n",
    "    discounts = li.select('.percent')\n",
    "    prices = li.select('.price')\n",
    "    ratings = li.select('.item-rating-total')\n",
    "\n",
    "    name = names[0].text.strip()\n",
    "    size = sizes[0].text.strip()\n",
    "    resolution = resolutions[0].text.strip()\n",
    "    price_old = prices_old[0].text.strip().replace('₫', '').replace('.', '')\n",
    "    discount = discounts[0].text.strip()\n",
    "    price = prices[0].text.strip().replace('₫', '').replace('.', '')\n",
    "    rating = len(li.select('.icon-star'))\n",
    "    rating_number = ratings[0].text.strip()\n",
    "\n",
    "    # Remove '\\n' and spaces from the end of the \"Name\" string\n",
    "    name = name.rsplit('\\n', 1)[0].strip()\n",
    "\n",
    "    result = {\n",
    "        'name': name,\n",
    "        'size': size,\n",
    "        'resolution': resolution,\n",
    "        'price_old': price_old,\n",
    "        'discount': discount,\n",
    "        'price_sale': price,\n",
    "        'rating': str(rating),\n",
    "        'rating_number': rating_number,\n",
    "    }\n",
    "\n",
    "    results.append(result)\n",
    "\n",
    "# Convert to JSON and print\n",
    "json_result = json.dumps(results, ensure_ascii=False)\n",
    "print(json_result)\n"
   ]
  }
 ],
 "metadata": {
  "kernelspec": {
   "display_name": "venv",
   "language": "python",
   "name": "python3"
  },
  "language_info": {
   "codemirror_mode": {
    "name": "ipython",
    "version": 3
   },
   "file_extension": ".py",
   "mimetype": "text/x-python",
   "name": "python",
   "nbconvert_exporter": "python",
   "pygments_lexer": "ipython3",
   "version": "3.10.11"
  }
 },
 "nbformat": 4,
 "nbformat_minor": 2
}
