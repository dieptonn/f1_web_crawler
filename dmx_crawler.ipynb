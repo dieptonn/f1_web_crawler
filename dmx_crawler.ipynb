{
 "cells": [
  {
   "cell_type": "code",
   "execution_count": 1,
   "metadata": {},
   "outputs": [],
   "source": [
    "from selenium import webdriver\n",
    "from selenium.webdriver.chrome.options import Options\n",
    "from bs4 import BeautifulSoup\n",
    "import json"
   ]
  },
  {
   "cell_type": "code",
   "execution_count": 2,
   "metadata": {},
   "outputs": [],
   "source": [
    "# Đường dẫn đến WebDriver (đổi tùy theo trình duyệt bạn sử dụng)\n",
    "webdriver_path = 'D:/Code/Python/f1_crawlling/chromedriver_win32/chromedriver.exe'"
   ]
  },
  {
   "cell_type": "code",
   "execution_count": 3,
   "metadata": {},
   "outputs": [
    {
     "ename": "WebDriverException",
     "evalue": "Message: unknown error: net::ERR_CONNECTION_TIMED_OUT\n  (Session info: headless chrome=119.0.6045.200)\nStacktrace:\n\tGetHandleVerifier [0x00007FF6264582B2+55298]\n\t(No symbol) [0x00007FF6263C5E02]\n\t(No symbol) [0x00007FF6262805AB]\n\t(No symbol) [0x00007FF62627C353]\n\t(No symbol) [0x00007FF62626F4CC]\n\t(No symbol) [0x00007FF626270714]\n\t(No symbol) [0x00007FF62626F8DF]\n\t(No symbol) [0x00007FF62626E803]\n\t(No symbol) [0x00007FF62626E7A8]\n\t(No symbol) [0x00007FF62626CF0E]\n\t(No symbol) [0x00007FF62626D803]\n\t(No symbol) [0x00007FF6262829BF]\n\t(No symbol) [0x00007FF6262FAE27]\n\t(No symbol) [0x00007FF6262E20AA]\n\t(No symbol) [0x00007FF6262FAAA4]\n\t(No symbol) [0x00007FF6262E1E83]\n\t(No symbol) [0x00007FF6262B670A]\n\t(No symbol) [0x00007FF6262B7964]\n\tGetHandleVerifier [0x00007FF6267D0AAB+3694587]\n\tGetHandleVerifier [0x00007FF62682728E+4048862]\n\tGetHandleVerifier [0x00007FF62681F173+4015811]\n\tGetHandleVerifier [0x00007FF6264F47D6+695590]\n\t(No symbol) [0x00007FF6263D0CE8]\n\t(No symbol) [0x00007FF6263CCF34]\n\t(No symbol) [0x00007FF6263CD062]\n\t(No symbol) [0x00007FF6263BD3A3]\n\tBaseThreadInitThunk [0x00007FF98E4A257D+29]\n\tRtlUserThreadStart [0x00007FF98F52AA58+40]\n",
     "output_type": "error",
     "traceback": [
      "\u001b[1;31m---------------------------------------------------------------------------\u001b[0m",
      "\u001b[1;31mWebDriverException\u001b[0m                        Traceback (most recent call last)",
      "Cell \u001b[1;32mIn[3], line 23\u001b[0m\n\u001b[0;32m     17\u001b[0m url \u001b[38;5;241m=\u001b[39m \u001b[38;5;124m'\u001b[39m\u001b[38;5;124mhttps://www.dienmayxanh.com/robot-hut-bui#c=10139&o=13&pi=2\u001b[39m\u001b[38;5;124m'\u001b[39m\n\u001b[0;32m     18\u001b[0m \u001b[38;5;66;03m# url = 'https://www.dienmayxanh.com/dien-thoai#c=42&o=17&pi=5'\u001b[39;00m\n\u001b[1;32m---> 23\u001b[0m \u001b[43mdriver\u001b[49m\u001b[38;5;241;43m.\u001b[39;49m\u001b[43mget\u001b[49m\u001b[43m(\u001b[49m\u001b[43murl\u001b[49m\u001b[43m)\u001b[49m\n\u001b[0;32m     25\u001b[0m \u001b[38;5;66;03m# Lấy nội dung HTML sau khi trang đã được tải qua JavaScript\u001b[39;00m\n\u001b[0;32m     26\u001b[0m html_content \u001b[38;5;241m=\u001b[39m driver\u001b[38;5;241m.\u001b[39mpage_source\n",
      "File \u001b[1;32md:\\Code\\Python\\f1_crawlling\\venv\\lib\\site-packages\\selenium\\webdriver\\remote\\webdriver.py:356\u001b[0m, in \u001b[0;36mWebDriver.get\u001b[1;34m(self, url)\u001b[0m\n\u001b[0;32m    354\u001b[0m \u001b[38;5;28;01mdef\u001b[39;00m \u001b[38;5;21mget\u001b[39m(\u001b[38;5;28mself\u001b[39m, url: \u001b[38;5;28mstr\u001b[39m) \u001b[38;5;241m-\u001b[39m\u001b[38;5;241m>\u001b[39m \u001b[38;5;28;01mNone\u001b[39;00m:\n\u001b[0;32m    355\u001b[0m \u001b[38;5;250m    \u001b[39m\u001b[38;5;124;03m\"\"\"Loads a web page in the current browser session.\"\"\"\u001b[39;00m\n\u001b[1;32m--> 356\u001b[0m     \u001b[38;5;28;43mself\u001b[39;49m\u001b[38;5;241;43m.\u001b[39;49m\u001b[43mexecute\u001b[49m\u001b[43m(\u001b[49m\u001b[43mCommand\u001b[49m\u001b[38;5;241;43m.\u001b[39;49m\u001b[43mGET\u001b[49m\u001b[43m,\u001b[49m\u001b[43m \u001b[49m\u001b[43m{\u001b[49m\u001b[38;5;124;43m\"\u001b[39;49m\u001b[38;5;124;43murl\u001b[39;49m\u001b[38;5;124;43m\"\u001b[39;49m\u001b[43m:\u001b[49m\u001b[43m \u001b[49m\u001b[43murl\u001b[49m\u001b[43m}\u001b[49m\u001b[43m)\u001b[49m\n",
      "File \u001b[1;32md:\\Code\\Python\\f1_crawlling\\venv\\lib\\site-packages\\selenium\\webdriver\\remote\\webdriver.py:347\u001b[0m, in \u001b[0;36mWebDriver.execute\u001b[1;34m(self, driver_command, params)\u001b[0m\n\u001b[0;32m    345\u001b[0m response \u001b[38;5;241m=\u001b[39m \u001b[38;5;28mself\u001b[39m\u001b[38;5;241m.\u001b[39mcommand_executor\u001b[38;5;241m.\u001b[39mexecute(driver_command, params)\n\u001b[0;32m    346\u001b[0m \u001b[38;5;28;01mif\u001b[39;00m response:\n\u001b[1;32m--> 347\u001b[0m     \u001b[38;5;28;43mself\u001b[39;49m\u001b[38;5;241;43m.\u001b[39;49m\u001b[43merror_handler\u001b[49m\u001b[38;5;241;43m.\u001b[39;49m\u001b[43mcheck_response\u001b[49m\u001b[43m(\u001b[49m\u001b[43mresponse\u001b[49m\u001b[43m)\u001b[49m\n\u001b[0;32m    348\u001b[0m     response[\u001b[38;5;124m\"\u001b[39m\u001b[38;5;124mvalue\u001b[39m\u001b[38;5;124m\"\u001b[39m] \u001b[38;5;241m=\u001b[39m \u001b[38;5;28mself\u001b[39m\u001b[38;5;241m.\u001b[39m_unwrap_value(response\u001b[38;5;241m.\u001b[39mget(\u001b[38;5;124m\"\u001b[39m\u001b[38;5;124mvalue\u001b[39m\u001b[38;5;124m\"\u001b[39m, \u001b[38;5;28;01mNone\u001b[39;00m))\n\u001b[0;32m    349\u001b[0m     \u001b[38;5;28;01mreturn\u001b[39;00m response\n",
      "File \u001b[1;32md:\\Code\\Python\\f1_crawlling\\venv\\lib\\site-packages\\selenium\\webdriver\\remote\\errorhandler.py:229\u001b[0m, in \u001b[0;36mErrorHandler.check_response\u001b[1;34m(self, response)\u001b[0m\n\u001b[0;32m    227\u001b[0m         alert_text \u001b[38;5;241m=\u001b[39m value[\u001b[38;5;124m\"\u001b[39m\u001b[38;5;124malert\u001b[39m\u001b[38;5;124m\"\u001b[39m]\u001b[38;5;241m.\u001b[39mget(\u001b[38;5;124m\"\u001b[39m\u001b[38;5;124mtext\u001b[39m\u001b[38;5;124m\"\u001b[39m)\n\u001b[0;32m    228\u001b[0m     \u001b[38;5;28;01mraise\u001b[39;00m exception_class(message, screen, stacktrace, alert_text)  \u001b[38;5;66;03m# type: ignore[call-arg]  # mypy is not smart enough here\u001b[39;00m\n\u001b[1;32m--> 229\u001b[0m \u001b[38;5;28;01mraise\u001b[39;00m exception_class(message, screen, stacktrace)\n",
      "\u001b[1;31mWebDriverException\u001b[0m: Message: unknown error: net::ERR_CONNECTION_TIMED_OUT\n  (Session info: headless chrome=119.0.6045.200)\nStacktrace:\n\tGetHandleVerifier [0x00007FF6264582B2+55298]\n\t(No symbol) [0x00007FF6263C5E02]\n\t(No symbol) [0x00007FF6262805AB]\n\t(No symbol) [0x00007FF62627C353]\n\t(No symbol) [0x00007FF62626F4CC]\n\t(No symbol) [0x00007FF626270714]\n\t(No symbol) [0x00007FF62626F8DF]\n\t(No symbol) [0x00007FF62626E803]\n\t(No symbol) [0x00007FF62626E7A8]\n\t(No symbol) [0x00007FF62626CF0E]\n\t(No symbol) [0x00007FF62626D803]\n\t(No symbol) [0x00007FF6262829BF]\n\t(No symbol) [0x00007FF6262FAE27]\n\t(No symbol) [0x00007FF6262E20AA]\n\t(No symbol) [0x00007FF6262FAAA4]\n\t(No symbol) [0x00007FF6262E1E83]\n\t(No symbol) [0x00007FF6262B670A]\n\t(No symbol) [0x00007FF6262B7964]\n\tGetHandleVerifier [0x00007FF6267D0AAB+3694587]\n\tGetHandleVerifier [0x00007FF62682728E+4048862]\n\tGetHandleVerifier [0x00007FF62681F173+4015811]\n\tGetHandleVerifier [0x00007FF6264F47D6+695590]\n\t(No symbol) [0x00007FF6263D0CE8]\n\t(No symbol) [0x00007FF6263CCF34]\n\t(No symbol) [0x00007FF6263CD062]\n\t(No symbol) [0x00007FF6263BD3A3]\n\tBaseThreadInitThunk [0x00007FF98E4A257D+29]\n\tRtlUserThreadStart [0x00007FF98F52AA58+40]\n"
     ]
    }
   ],
   "source": [
    "\n",
    "# Tạo các tùy chọn cho trình duyệt\n",
    "chrome_options = Options()\n",
    "chrome_options.add_argument('--headless')  # Chạy trình duyệt ẩn danh (không hiển thị trình duyệt)\n",
    "chrome_options.binary_location = \"C:\\\\Program Files\\\\Google\\\\Chrome\\\\Application\\\\chrome.exe\" # Đường dẫn đến trình duyệt Chrome\n",
    "\n",
    "# Khởi tạo trình duyệt (ở đây sử dụng Chrome)\n",
    "driver = webdriver.Chrome(options=chrome_options)\n",
    "\n",
    "# url = 'https://www.dienmayxanh.com/tivi#c=1942&o=13&pi=12'\n",
    "# url = 'https://www.dienmayxanh.com/tu-lanh#c=1943&o=13&pi=11'\n",
    "# url = 'https://www.dienmayxanh.com/may-giat#c=1944&o=13&pi=10'\n",
    "# url = 'https://www.dienmayxanh.com/may-nuoc-nong#c=1962&o=13&pi=4'\n",
    "# url = 'https://www.dienmayxanh.com/tu-dong#c=166&o=13&pi=4'\n",
    "# url = 'https://www.dienmayxanh.com/may-lanh#c=2002&o=13&pi=6'\n",
    "# url = 'https://www.dienmayxanh.com/noi-com-dien#c=1922&o=13&pi=10'\n",
    "# url = 'https://www.dienmayxanh.com/noi-chien-khong-dau#c=9418&o=13&pi=6'\n",
    "url = 'https://www.dienmayxanh.com/robot-hut-bui#c=10139&o=13&pi=2'\n",
    "# url = 'https://www.dienmayxanh.com/dien-thoai#c=42&o=17&pi=5'\n",
    "\n",
    "\n",
    "\n",
    "\n",
    "driver.get(url)\n",
    "\n",
    "# Lấy nội dung HTML sau khi trang đã được tải qua JavaScript\n",
    "html_content = driver.page_source\n",
    "\n",
    "# Tắt trình duyệt\n",
    "driver.quit()\n"
   ]
  },
  {
   "cell_type": "code",
   "execution_count": null,
   "metadata": {},
   "outputs": [
    {
     "name": "stdout",
     "output_type": "stream",
     "text": [
      "[{\"name\": \"Robot hút bụi lau nhà Xiaomi Vacuum E10\", \"size\": \"\", \"resolution\": \"\", \"price_old\": \"6490000\", \"discount\": \"-38%\", \"price_sale\": \"3990000\", \"rating\": \"4\", \"rating_number\": \"16\", \"product_img\": \"https://cdn.tgdd.vn/Products/Images/10139/303821/robot-hut-bui-lau-nha-xiaomi-vacuum-e10-130323-050133-600x600.jpg\"}, {\"name\": \"Robot hút bụi lau nhà Ecovacs U2 Pro\", \"size\": \"\", \"resolution\": \"\", \"price_old\": \"6990000\", \"discount\": \"-44%\", \"price_sale\": \"3890000\", \"rating\": \"0\", \"rating_number\": \"\", \"product_img\": \"https://cdn.tgdd.vn/Products/Images/10139/314215/robot-hut-bui-lau-nha-ecovacs-u2-pro-thumb-1-600x600.jpg\"}, {\"name\": \"Robot hút bụi lau nhà Samsung VR05R5050WK/SV\", \"size\": \"\", \"resolution\": \"\", \"price_old\": \"7890000\", \"discount\": \"-36%\", \"price_sale\": \"4990000\", \"rating\": \"4\", \"rating_number\": \"365\", \"product_img\": \"https://cdn.tgdd.vn/Products/Images/10139/264374/samsung-vr05r5050wk-sv-100423-014048-600x600.jpg\"}, {\"name\": \"Robot hút bụi lau nhà Dreame F9 Pro\", \"size\": \"\", \"resolution\": \"\", \"price_old\": \"8490000\", \"discount\": \"-27%\", \"price_sale\": \"6190000\", \"rating\": \"0\", \"rating_number\": \"\", \"product_img\": \"https://cdn.tgdd.vn/Products/Images/10139/310446/robot-hut-bui-lau-nha-dreame-f9-pro-190723-051204-600x600.jpg\"}, {\"name\": \"Robot hút bụi lau nhà Xiaomi Vacuum S10\", \"size\": \"\", \"resolution\": \"\", \"price_old\": \"8490000\", \"discount\": \"-35%\", \"price_sale\": \"5490000\", \"rating\": \"4\", \"rating_number\": \"32\", \"product_img\": \"https://cdn.tgdd.vn/Products/Images/10139/303820/robot-hut-bui-lau-nha-xiaomi-vacuum-s10-130323-042509-600x600.jpg\"}, {\"name\": \"Robot hút bụi lau nhà Dreame L10 Prime\", \"size\": \"\", \"resolution\": \"\", \"price_old\": \"17990000\", \"discount\": \"-32%\", \"price_sale\": \"12060000\", \"rating\": \"4\", \"rating_number\": \"3\", \"product_img\": \"https://cdn.tgdd.vn/Products/Images/10139/307820/robot-hut-bui-lau-nha-l10-prime-070623-035750-600x600.jpg\"}, {\"name\": \"Robot hút bụi lau nhà Ecovacs T10\", \"size\": \"\", \"resolution\": \"\", \"price_old\": \"15900000\", \"discount\": \"-37%\", \"price_sale\": \"9990000\", \"rating\": \"4\", \"rating_number\": \"6\", \"product_img\": \"https://cdn.tgdd.vn/Products/Images/10139/307818/robot-hut-bui-lau-nha-ecovacs-t10-020623-051546-600x600.jpg\"}, {\"name\": \"Robot hút bụi lau nhà Hitachi RV-X20M\", \"size\": \"\", \"resolution\": \"\", \"price_old\": \"8490000\", \"discount\": \"-24%\", \"price_sale\": \"6390000\", \"rating\": \"4\", \"rating_number\": \"5\", \"product_img\": \"https://cdn.tgdd.vn/Products/Images/10139/309240/robot-hut-bui-lau-nha-hitachi-rv-x20m-150623-120659-600x600.jpg\"}, {\"name\": \"Robot hút bụi lau nhà Hitachi RV-X15N\", \"size\": \"\", \"resolution\": \"\", \"price_old\": \"5990000\", \"discount\": \"-7%\", \"price_sale\": \"5540000\", \"rating\": \"5\", \"rating_number\": \"3\", \"product_img\": \"https://cdn.tgdd.vn/Products/Images/10139/309239/robot-hut-bui-lau-nha-hitachi-rv-x15n-110723-105903-600x600.jpg\"}, {\"name\": \"Robot hút bụi lau nhà Dreame L10 Ultra\", \"size\": \"\", \"resolution\": \"\", \"price_old\": \"24990000\", \"discount\": \"-42%\", \"price_sale\": \"14490000\", \"rating\": \"5\", \"rating_number\": \"6\", \"product_img\": \"https://cdn.tgdd.vn/Products/Images/10139/302345/dreame-l10-ultra-110523-052942-600x600.jpg\"}, {\"name\": \"Robot hút bụi lau nhà Ecovacs Deebot N10 DBX41\", \"size\": \"\", \"resolution\": \"\", \"price_old\": \"11900000\", \"discount\": \"-25%\", \"price_sale\": \"8850000\", \"rating\": \"4\", \"rating_number\": \"14\", \"product_img\": \"https://cdn.tgdd.vn/Products/Images/10139/303397/lau-nha-ecovacs-deebot-n10-dbx41-220323-015601-600x600.jpg\"}, {\"name\": \"Robot hút bụi lau nhà Philips XU6500/82\", \"size\": \"\", \"resolution\": \"\", \"price_old\": \"17990000\", \"discount\": \"-13%\", \"price_sale\": \"15590000\", \"rating\": \"0\", \"rating_number\": \"\", \"product_img\": \"https://cdn.tgdd.vn/Products/Images/10139/316678/robot-hut-bui-lau-nha-philips-xu6500-82-0-600x600.jpg\"}, {\"name\": \"Robot hút bụi lau nhà Ecovacs Deebot T20 Omni DLX23\", \"size\": \"\", \"resolution\": \"\", \"price_old\": \"29900000\", \"discount\": \"-26%\", \"price_sale\": \"21910000\", \"rating\": \"4\", \"rating_number\": \"6\", \"product_img\": \"https://cdn.tgdd.vn/Products/Images/10139/306067/robot-hut-bui-lau-nha-ecovacs-deebot-t20-omni-dlx23-190523-030128-600x600.jpg\"}, {\"name\": \"Robot hút bụi lau nhà Shimono RS38B\", \"size\": \"\", \"resolution\": \"\", \"price_old\": \"7990000\", \"discount\": \"-31%\", \"price_sale\": \"5490000\", \"rating\": \"4\", \"rating_number\": \"31\", \"product_img\": \"https://cdn.tgdd.vn/Products/Images/10139/236341/robot-hut-bui-shimono-rs38b-310523-033917-600x600.jpg\"}, {\"name\": \"Robot hút bụi lau nhà Dreame D10S Plus\", \"size\": \"\", \"resolution\": \"\", \"price_old\": \"12990000\", \"discount\": \"-23%\", \"price_sale\": \"9990000\", \"rating\": \"0\", \"rating_number\": \"\", \"product_img\": \"https://cdn.tgdd.vn/Products/Images/10139/307823/robot-hut-bui-lau-nha-dreame-d10s-plus-060623-103611-600x600.jpg\"}, {\"name\": \"Robot hút bụi lau nhà Lydsto G4\", \"size\": \"\", \"resolution\": \"\", \"price_old\": \"3990000\", \"discount\": \"-30%\", \"price_sale\": \"2790000\", \"rating\": \"5\", \"rating_number\": \"5\", \"product_img\": \"https://cdn.tgdd.vn/Products/Images/10139/308263/robot-hut-bui-lau-nha-lydsto-g4-080623-100425-600x600.jpg\"}, {\"name\": \"Robot hút bụi lau nhà Ecovacs Deebot X2 OMNI\", \"size\": \"\", \"resolution\": \"\", \"price_old\": \"34900000\", \"discount\": \"-25%\", \"price_sale\": \"25990000\", \"rating\": \"5\", \"rating_number\": \"3\", \"product_img\": \"https://cdn.tgdd.vn/Products/Images/10139/313107/robot-hut-bui-lau-nha-ecovacs-x2-omni-180823-040854-600x600.jpg\"}, {\"name\": \"Robot hút bụi lau nhà Lydsto G2\", \"size\": \"\", \"resolution\": \"\", \"price_old\": \"7990000\", \"discount\": \"-27%\", \"price_sale\": \"5790000\", \"rating\": \"4\", \"rating_number\": \"9\", \"product_img\": \"https://cdn.tgdd.vn/Products/Images/10139/303259/lau-nha-lydsto-g2-ym-g2-w03-060623-034351-600x600.jpg\"}, {\"name\": \"Robot hút bụi lau nhà Ecovacs T10 Turbo\", \"size\": \"\", \"resolution\": \"\", \"price_old\": \"23900000\", \"discount\": \"-41%\", \"price_sale\": \"13900000\", \"rating\": \"2\", \"rating_number\": \"3\", \"product_img\": \"https://cdn.tgdd.vn/Products/Images/10139/307815/robot-hut-bui-lau-nha-ecovacs-t10-turbo-060723-112428-600x600.png\"}, {\"name\": \"Robot hút bụi lau nhà Dreame L20 Ultra\", \"size\": \"\", \"resolution\": \"\", \"price_old\": \"35990000\", \"discount\": \"-30%\", \"price_sale\": \"24990000\", \"rating\": \"5\", \"rating_number\": \"4\", \"product_img\": \"https://cdn.tgdd.vn/Products/Images/10139/310454/lau-nha-dreame-l20-ultra-010823-040317-600x600.jpg\"}, {\"name\": \"Robot hút bụi lau nhà Midea M6\", \"size\": \"\", \"resolution\": \"\", \"price_old\": \"7990000\", \"discount\": \"-49%\", \"price_sale\": \"4070000\", \"rating\": \"4\", \"rating_number\": \"6\", \"product_img\": \"https://cdn.tgdd.vn/Products/Images/10139/287382/midea-m6-261222-114232-600x600.jpg\"}, {\"name\": \"Robot hút bụi lau nhà Dreame D9 MAX\", \"size\": \"\", \"resolution\": \"\", \"price_old\": \"9990000\", \"discount\": \"-32%\", \"price_sale\": \"6790000\", \"rating\": \"3\", \"rating_number\": \"4\", \"product_img\": \"https://cdn.tgdd.vn/Products/Images/10139/302344/dreame-d9-max-150223-110236-600x600.jpg\"}, {\"name\": \"Robot hút bụi lau nhà Ecovacs T10 OMNI\", \"size\": \"\", \"resolution\": \"\", \"price_old\": \"26900000\", \"discount\": \"-37%\", \"price_sale\": \"16900000\", \"rating\": \"0\", \"rating_number\": \"\", \"product_img\": \"https://cdn.tgdd.vn/Products/Images/10139/307812/robot-hut-bui-lau-nha-ecovacs-t10-omni-020623-095411-600x600.jpg\"}, {\"name\": \"Robot hút bụi lau nhà Dreame L10S Ultra SE\", \"size\": \"\", \"resolution\": \"\", \"price_old\": \"34990000\", \"discount\": \"-45%\", \"price_sale\": \"18990000\", \"rating\": \"0\", \"rating_number\": \"\", \"product_img\": \"https://cdn.tgdd.vn/Products/Images/10139/310453/robot-hut-bui-lau-nha-dreame-l10s-ultra-se-210723-101001-600x600.jpg\"}, {\"name\": \"Robot hút bụi lau nhà Eufy Robovac G10 Hybrid - T2150\", \"size\": \"\", \"resolution\": \"\", \"price_old\": \"7500000\", \"discount\": \"-49%\", \"price_sale\": \"3820000\", \"rating\": \"3\", \"rating_number\": \"7\", \"product_img\": \"https://cdn.tgdd.vn/Products/Images/10139/224148/robot-hut-bui-eufy-robovac-g10-hybrid-t21-201022-114438-600x600.jpg\"}, {\"name\": \"Robot hút bụi Samsung VR30T85513W/SV\", \"size\": \"\", \"resolution\": \"\", \"price_old\": \"19990000\", \"discount\": \"-35%\", \"price_sale\": \"12990000\", \"rating\": \"5\", \"rating_number\": \"16\", \"product_img\": \"https://cdn.tgdd.vn/Products/Images/10139/264373/264373-1-2-3-600x600.jpg\"}, {\"name\": \"Robot hút bụi lau nhà Midea M7 Pro\", \"size\": \"\", \"resolution\": \"\", \"price_old\": \"10990000\", \"discount\": \"-49%\", \"price_sale\": \"5600000\", \"rating\": \"3\", \"rating_number\": \"25\", \"product_img\": \"https://cdn.tgdd.vn/Products/Images/10139/287383/midea-m7-pro-140922-031153-600x600.jpg\"}, {\"name\": \"Robot hút bụi Eufy Robovac 15T - T2115\", \"size\": \"\", \"resolution\": \"\", \"price_old\": \"6600000\", \"discount\": \"-48%\", \"price_sale\": \"3370000\", \"rating\": \"3\", \"rating_number\": \"4\", \"product_img\": \"https://cdn.tgdd.vn/Products/Images/10139/224133/robot-hut-bui-eufy-robovac-15t-t2115-nau-050123-111651-600x600.jpg\"}, {\"name\": \"Robot hút bụi lau nhà Ecovacs Deebot T9\", \"size\": \"\", \"resolution\": \"\", \"price_old\": \"14990000\", \"discount\": \"-39%\", \"price_sale\": \"9060000\", \"rating\": \"4\", \"rating_number\": \"4\", \"product_img\": \"https://cdn.tgdd.vn/Products/Images/10139/302323/ecovacs-deebot-t9-200223-050522-600x600.jpg\"}, {\"name\": \"Robot hút bụi lau nhà Ecovacs Deebot T9 Plus\", \"size\": \"\", \"resolution\": \"\", \"price_old\": \"19890000\", \"discount\": \"-28%\", \"price_sale\": \"14300000\", \"rating\": \"0\", \"rating_number\": \"\", \"product_img\": \"https://cdn.tgdd.vn/Products/Images/10139/302325/lau-nha-ecovacs-deebot-t9-plus-110523-055307-600x600.jpg\"}, {\"name\": \"Robot hút bụi lau nhà Ecovacs Deebot T9 AIVI\", \"size\": \"\", \"resolution\": \"\", \"price_old\": \"12900000\", \"discount\": \"-23%\", \"price_sale\": \"9850000\", \"rating\": \"4\", \"rating_number\": \"4\", \"product_img\": \"https://cdn.tgdd.vn/Products/Images/10139/302337/ecovacs-deebot-t9-aivi-200223-035457-600x600.jpg\"}, {\"name\": \"Robot hút bụi lau nhà Dreame D10 Plus\", \"size\": \"\", \"resolution\": \"\", \"price_old\": \"12990000\", \"discount\": \"-28%\", \"price_sale\": \"9240000\", \"rating\": \"4\", \"rating_number\": \"5\", \"product_img\": \"https://cdn.tgdd.vn/Products/Images/10139/302351/dreame-d10-plus-110523-081443-600x600.jpg\"}, {\"name\": \"Robot hút bụi lau nhà Tefal RG8275WH\", \"size\": \"\", \"resolution\": \"\", \"price_old\": \"6900000\", \"discount\": \"-45%\", \"price_sale\": \"3790000\", \"rating\": \"4\", \"rating_number\": \"5\", \"product_img\": \"https://cdn.tgdd.vn/Products/Images/10139/292714/robot-hut-bui-tefal-rg8275wh-111022-112258-600x600.jpg\"}, {\"name\": \"Robot hút bụi lau nhà Ecovacs Deebot N8\", \"size\": \"\", \"resolution\": \"\", \"price_old\": \"10900000\", \"discount\": \"-36%\", \"price_sale\": \"6890000\", \"rating\": \"0\", \"rating_number\": \"\", \"product_img\": \"https://cdn.tgdd.vn/Products/Images/10139/302330/lau-nha-ecovacs-deebot-n8-200223-025635-600x600.jpg\"}, {\"name\": \"Robot hút bụi lau nhà Lydsto G1\", \"size\": \"\", \"resolution\": \"\", \"price_old\": \"4990000\", \"discount\": \"-15%\", \"price_sale\": \"4220000\", \"rating\": \"4\", \"rating_number\": \"5\", \"product_img\": \"https://cdn.tgdd.vn/Products/Images/10139/303258/robot-hut-bui-lau-nha-lydsto-g1-210323-050330-600x600.jpg\"}, {\"name\": \"Robot hút bụi lau nhà Lydsto R1 Pro\", \"size\": \"\", \"resolution\": \"\", \"price_old\": \"11900000\", \"discount\": \"-24%\", \"price_sale\": \"9020000\", \"rating\": \"0\", \"rating_number\": \"\", \"product_img\": \"https://cdn.tgdd.vn/Products/Images/10139/308264/robot-hut-bui-lau-nha-lydsto-r1-pro-120623-105958-600x600.jpg\"}, {\"name\": \"Robot hút bụi lau nhà Shimono XR530\", \"size\": \"\", \"resolution\": \"\", \"price_old\": \"10990000\", \"discount\": \"-18%\", \"price_sale\": \"8970000\", \"rating\": \"0\", \"rating_number\": \"\", \"product_img\": \"https://cdn.tgdd.vn/Products/Images/10139/308268/robot-hut-bui-lau-nha-shimono-xr530-050623-053112-600x600.jpg\"}, {\"name\": \"Robot hút bụi lau nhà Ecovacs Deebot Neo DLN26\", \"size\": \"\", \"resolution\": \"\", \"price_old\": \"10900000\", \"discount\": \"-24%\", \"price_sale\": \"8190000\", \"rating\": \"0\", \"rating_number\": \"\", \"product_img\": \"https://cdn.tgdd.vn/Products/Images/10139/312919/robot-hut-bui-lau-nha-ecovacs-deebot-neo-dln26-thumb-1-600x600.jpg\"}, {\"name\": \"Robot hút bụi Midea M3L\", \"size\": \"\", \"resolution\": \"\", \"price_old\": \"5690000\", \"discount\": \"-12%\", \"price_sale\": \"4990000\", \"rating\": \"3\", \"rating_number\": \"3\", \"product_img\": \"https://cdn.tgdd.vn/Products/Images/10139/287380/robot-hut-bui-midea-m3l-261222-114819-600x600.jpg\"}, {\"name\": \"Robot hút bụi lau nhà Ecovacs Deebot T9 AIVI Plus\", \"size\": \"\", \"resolution\": \"\", \"price_old\": \"15900000\", \"discount\": \"-21%\", \"price_sale\": \"12450000\", \"rating\": \"4\", \"rating_number\": \"6\", \"product_img\": \"https://cdn.tgdd.vn/Products/Images/10139/302338/ecovacs-deebot-t9-aivi-plus-110523-053301-600x600.jpg\"}, {\"name\": \"Robot hút bụi lau nhà Shimono X6S\", \"size\": \"\", \"resolution\": \"\", \"price_old\": \"8290000\", \"discount\": \"-18%\", \"price_sale\": \"6750000\", \"rating\": \"0\", \"rating_number\": \"\", \"product_img\": \"https://cdn.tgdd.vn/Products/Images/10139/308267/robot-hut-bui-lau-nha-shimono-x6s-050623-054315-600x600.jpg\"}, {\"name\": \"Robot hút bụi Kangaroo KGRB01 Trắng\", \"size\": \"\", \"resolution\": \"\", \"price_old\": \"8290000\", \"discount\": \"-30%\", \"price_sale\": \"5800000\", \"rating\": \"3\", \"rating_number\": \"6\", \"product_img\": \"https://cdn.tgdd.vn/Products/Images/10139/214026/robot-hut-bui-kangaroo-kgrb01-mau-trang-130423-103538-600x600.jpg\"}, {\"name\": \"Robot hút bụi Kangaroo KGRB01 Nâu\", \"size\": \"\", \"resolution\": \"\", \"price_old\": \"7950000\", \"discount\": \"-48%\", \"price_sale\": \"4055000\", \"rating\": \"3\", \"rating_number\": \"17\", \"product_img\": \"https://cdn.tgdd.vn/Products/Images/10139/214027/214027-600x600.jpg\"}, {\"name\": \"Robot hút bụi lau nhà Shimono ZK902\", \"size\": \"\", \"resolution\": \"\", \"price_old\": \"12900000\", \"discount\": \"-30%\", \"price_sale\": \"8990000\", \"rating\": \"4\", \"rating_number\": \"8\", \"product_img\": \"https://cdn.tgdd.vn/Products/Images/10139/236342/robot-hut-bui-shimono-zk902-310523-033948-600x600.jpg\"}, {\"name\": \"Robot hút bụi lau nhà Dreame F9\", \"size\": \"\", \"resolution\": \"\", \"price_old\": \"6990000\", \"discount\": \"-48%\", \"price_sale\": \"3565000\", \"rating\": \"4\", \"rating_number\": \"10\", \"product_img\": \"https://cdn.tgdd.vn/Products/Images/10139/278986/278986--600x600.jpg\"}, {\"name\": \"Robot hút bụi lau nhà Tefal RG7447WH\", \"size\": \"\", \"resolution\": \"\", \"price_old\": \"10350000\", \"discount\": \"-51%\", \"price_sale\": \"4990000\", \"rating\": \"3\", \"rating_number\": \"3\", \"product_img\": \"https://cdn.tgdd.vn/Products/Images/10139/292712/robot-hut-bui-tefal-rg7447wh-111022-105633-600x600.jpg\"}, {\"name\": \"Robot hút bụi lau nhà Tefal RG7865WH\", \"size\": \"\", \"resolution\": \"\", \"price_old\": \"13750000\", \"discount\": \"-34%\", \"price_sale\": \"8990000\", \"rating\": \"0\", \"rating_number\": \"\", \"product_img\": \"https://cdn.tgdd.vn/Products/Images/10139/292713/robot-hut-bui-tefal-rg7865wh-111022-111735-600x600.jpg\"}, {\"name\": \"Robot hút bụi lau nhà Uwant U200\", \"size\": \"\", \"resolution\": \"\", \"price_old\": \"21900000\", \"discount\": \"-18%\", \"price_sale\": \"17900000\", \"rating\": \"5\", \"rating_number\": \"6\", \"product_img\": \"https://cdn.tgdd.vn/Products/Images/10139/303256/robot-hut-bui-lau-nha-uwant-u200-110523-081558-600x600.jpg\"}, {\"name\": \"Robot hút bụi lau nhà Dreame W10 Pro\", \"size\": \"\", \"resolution\": \"\", \"price_old\": \"29990000\", \"discount\": \"-55%\", \"price_sale\": \"13490000\", \"rating\": \"0\", \"rating_number\": \"\", \"product_img\": \"https://cdn.tgdd.vn/Products/Images/10139/307822/robot-hut-bui-lau-nha-dreame-w10-pro-120623-120552-600x600.jpg\"}, {\"name\": \"Robot hút bụi lau nhà Ecovacs Deebot X2 OMNI\", \"size\": \"\", \"resolution\": \"\", \"price_old\": \"34900000\", \"discount\": \"-28%\", \"price_sale\": \"24900000\", \"rating\": \"0\", \"rating_number\": \"\", \"product_img\": \"https://cdn.tgdd.vn/Products/Images/10139/317067/robot-hut-bui-lau-nha-ecovacs-x2-omni-trang-301023-014653-600x600.jpg\"}]\n"
     ]
    }
   ],
   "source": [
    "\n",
    "# Tiếp tục xử lý HTML giống như bạn đã làm với BeautifulSoup\n",
    "soup = BeautifulSoup(html_content, 'html.parser')\n",
    "ul = soup.find('ul', class_='listproduct')\n",
    "lis = ul.find_all('li')\n",
    "\n",
    "last_index = len(lis) - 1\n",
    "\n",
    "# Mảng để lưu trữ các kết quả JSON\n",
    "results = []\n",
    "\n",
    "for li_id, li in enumerate(lis):\n",
    "    names = li.find_all('h3')\n",
    "    sizes = li.select('.item-compare span:nth-of-type(1)')\n",
    "    resolutions = li.select('.item-compare span:nth-of-type(2)')\n",
    "    prices_old = li.select('.price-old')\n",
    "    discounts = li.select('.percent')\n",
    "    prices = li.select('.price')\n",
    "    ratings = li.select('.item-rating-total')\n",
    "    img_url = li.select_one('.item-img img')['data-src']\n",
    "\n",
    "    name = names[0].text.strip()\n",
    "    size = sizes[0].text.strip() if sizes else ''\n",
    "    resolution = resolutions[0].text.strip() if resolutions else ''\n",
    "    price_old = prices_old[0].text.strip().replace('₫', '').replace('.', '') if prices_old else ''\n",
    "    discount = discounts[0].text.strip() if discounts else ''\n",
    "    price = prices[0].text.strip().replace('₫', '').replace('.', '') if prices else ''\n",
    "    rating = len(li.select('.icon-star'))\n",
    "    rating_number = ratings[0].text.strip() if ratings else ''\n",
    "\n",
    "    # Remove '\\n' and spaces from the end of the \"Name\" string\n",
    "    name = name.rsplit('\\n', 1)[0].strip()\n",
    "\n",
    "    result = {\n",
    "        'name': name,\n",
    "        'size': size,\n",
    "        'resolution': resolution,\n",
    "        'price_old': price_old,\n",
    "        'discount': discount,\n",
    "        'price_sale': price,\n",
    "        'rating': str(rating),\n",
    "        'rating_number': rating_number,\n",
    "        'product_img': img_url,\n",
    "    }\n",
    "\n",
    "    results.append(result)\n",
    "\n",
    "# Convert to JSON and print\n",
    "json_result = json.dumps(results, ensure_ascii=False)\n",
    "print(json_result)\n"
   ]
  }
 ],
 "metadata": {
  "kernelspec": {
   "display_name": "venv",
   "language": "python",
   "name": "python3"
  },
  "language_info": {
   "codemirror_mode": {
    "name": "ipython",
    "version": 3
   },
   "file_extension": ".py",
   "mimetype": "text/x-python",
   "name": "python",
   "nbconvert_exporter": "python",
   "pygments_lexer": "ipython3",
   "version": "3.10.11"
  }
 },
 "nbformat": 4,
 "nbformat_minor": 2
}
